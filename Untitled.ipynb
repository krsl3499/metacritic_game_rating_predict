{
 "cells": [
  {
   "cell_type": "markdown",
   "id": "6667755a",
   "metadata": {},
   "source": [
    "정해질 예측 알고리즘에 따라 import할 라이브러리도 달라질듯"
   ]
  },
  {
   "cell_type": "code",
   "execution_count": 1,
   "id": "82781157",
   "metadata": {},
   "outputs": [],
   "source": [
    "import warnings\n",
    "import numpy as np\n",
    "import pandas as pd\n",
    "import matplotlib.pyplot as plt\n",
    "import mplcursors # Use this is for creating a cursor-interactive plot with \"%matplotlib notebook\"\n",
    "from sklearn.decomposition import NMF # Use this for training Non-negative Matrix Factorization\n",
    "from sklearn.utils.extmath import randomized_svd # Use this for training Singular Value Decomposition\n",
    "from sklearn.manifold import TSNE # Use this for training t-sne manifolding\n",
    "\n",
    "plt.style.use('ggplot') # You can also use different style\n",
    "\n",
    "# just for plot checking, use this option\n",
    "# %matplotlib inline\n",
    "\n",
    "# for interactive plot\n",
    "# If you use this option, plot will appear at first-drawn position\n",
    "%matplotlib notebook\n",
    "\n",
    "warnings.filterwarnings('ignore')"
   ]
  },
  {
   "cell_type": "markdown",
   "id": "4539bd58",
   "metadata": {},
   "source": [
    "데이터셋 불러오기\n",
    "데이터셋 출처 https://www.kaggle.com/datasets/deepcontractor/top-video-games-19952021-metacritic\n",
    "데이터셋 1995년부터 2021년까지의 자료\n",
    "all_games.csv의 칼럼\n",
    "names platform release_date summary(게임 요약) meta_score(전문가 스코어 100점만점) user_review(유저스코어 10점만점)\n"
   ]
  },
  {
   "cell_type": "code",
   "execution_count": 2,
   "id": "7d0ba9f4",
   "metadata": {},
   "outputs": [],
   "source": [
    "dir = './dataset/'\n",
    "df_games=pd.read_csv(dir+'all_games.csv',usecols=['name','platform','release_date','meta_score','user_review'])"
   ]
  },
  {
   "cell_type": "markdown",
   "id": "1c8411bc",
   "metadata": {},
   "source": [
    "게임수 파악\n",
    "6546개의 플랫폼이 다른 동일 게임이 존재 "
   ]
  },
  {
   "cell_type": "code",
   "execution_count": 3,
   "id": "3fad3555",
   "metadata": {},
   "outputs": [
    {
     "data": {
      "text/plain": [
       "(18800, 12254, 6546)"
      ]
     },
     "execution_count": 3,
     "metadata": {},
     "output_type": "execute_result"
    }
   ],
   "source": [
    "n_games=len(df_games['name'])\n",
    "n_game_same_name=len(df_games['name'].unique())\n",
    "n_games,n_game_same_name,n_games-n_game_same_name"
   ]
  },
  {
   "cell_type": "markdown",
   "id": "b3c233aa",
   "metadata": {},
   "source": [
    "이름이없는 row 존재하지않음"
   ]
  },
  {
   "cell_type": "code",
   "execution_count": 4,
   "id": "4928733f",
   "metadata": {},
   "outputs": [
    {
     "data": {
      "text/plain": [
       "0"
      ]
     },
     "execution_count": 4,
     "metadata": {},
     "output_type": "execute_result"
    }
   ],
   "source": [
    "len(df_games)-n_games"
   ]
  },
  {
   "cell_type": "markdown",
   "id": "7cdf7c23",
   "metadata": {},
   "source": [
    "칼럼 타입 확인하기"
   ]
  },
  {
   "cell_type": "code",
   "execution_count": 5,
   "id": "38d5f13e",
   "metadata": {},
   "outputs": [
    {
     "data": {
      "text/plain": [
       "name            object\n",
       "platform        object\n",
       "release_date    object\n",
       "meta_score       int64\n",
       "user_review     object\n",
       "dtype: object"
      ]
     },
     "execution_count": 5,
     "metadata": {},
     "output_type": "execute_result"
    }
   ],
   "source": [
    "df_games.dtypes"
   ]
  },
  {
   "cell_type": "markdown",
   "id": "7929c458",
   "metadata": {},
   "source": [
    "object타입 칼럼을 string으로 변경\n",
    "\n",
    "user_review칼럼에서 tbd(미정)값 존재 확인"
   ]
  },
  {
   "cell_type": "code",
   "execution_count": 6,
   "id": "3581e684",
   "metadata": {},
   "outputs": [],
   "source": [
    "df_games = df_games.astype({'name':'string','platform':'string','release_date':'string'})"
   ]
  },
  {
   "cell_type": "markdown",
   "id": "a5c7d937",
   "metadata": {},
   "source": [
    "user review칼럼에서 tbd값이 포함된 row처리?\n",
    "\n",
    "일단 0.0점으로 변경(알고리즘에 따라 달라질듯)"
   ]
  },
  {
   "cell_type": "code",
   "execution_count": 7,
   "id": "5013ce0a",
   "metadata": {},
   "outputs": [],
   "source": [
    "df_games.user_review=='tbd'\n",
    "df_games.loc[df_games.user_review=='tbd','user_review'] = 0.0"
   ]
  },
  {
   "cell_type": "markdown",
   "id": "0f7eba3f",
   "metadata": {},
   "source": [
    "tbd값 처리후 데이터타입 float으로 변경"
   ]
  },
  {
   "cell_type": "code",
   "execution_count": 8,
   "id": "6a76aa40",
   "metadata": {},
   "outputs": [
    {
     "data": {
      "text/plain": [
       "name             string\n",
       "platform         string\n",
       "release_date     string\n",
       "meta_score        int64\n",
       "user_review     float64\n",
       "dtype: object"
      ]
     },
     "execution_count": 8,
     "metadata": {},
     "output_type": "execute_result"
    }
   ],
   "source": [
    "df_games = df_games.astype({'user_review':'float'})\n",
    "df_games.dtypes"
   ]
  },
  {
   "cell_type": "code",
   "execution_count": 9,
   "id": "46ddadde",
   "metadata": {},
   "outputs": [
    {
     "data": {
      "text/plain": [
       "<StringArray>\n",
       "[     ' Nintendo 64',      ' PlayStation',    ' PlayStation 3',\n",
       "        ' Dreamcast',         ' Xbox 360',              ' Wii',\n",
       "         ' Xbox One',               ' PC',           ' Switch',\n",
       "    ' PlayStation 2',    ' PlayStation 4',         ' GameCube',\n",
       "             ' Xbox',            ' Wii U', ' Game Boy Advance',\n",
       "              ' 3DS',    ' Xbox Series X',               ' DS',\n",
       " ' PlayStation Vita',    ' PlayStation 5',              ' PSP',\n",
       "           ' Stadia']\n",
       "Length: 22, dtype: string"
      ]
     },
     "execution_count": 9,
     "metadata": {},
     "output_type": "execute_result"
    }
   ],
   "source": [
    "platforms_list = df_games['platform'].unique()\n",
    "platforms_list"
   ]
  },
  {
   "cell_type": "code",
   "execution_count": 10,
   "id": "22f67e67",
   "metadata": {
    "scrolled": true
   },
   "outputs": [
    {
     "data": {
      "text/html": [
       "<div>\n",
       "<style scoped>\n",
       "    .dataframe tbody tr th:only-of-type {\n",
       "        vertical-align: middle;\n",
       "    }\n",
       "\n",
       "    .dataframe tbody tr th {\n",
       "        vertical-align: top;\n",
       "    }\n",
       "\n",
       "    .dataframe thead th {\n",
       "        text-align: right;\n",
       "    }\n",
       "</style>\n",
       "<table border=\"1\" class=\"dataframe\">\n",
       "  <thead>\n",
       "    <tr style=\"text-align: right;\">\n",
       "      <th></th>\n",
       "      <th>platform</th>\n",
       "      <th>user_review</th>\n",
       "    </tr>\n",
       "  </thead>\n",
       "  <tbody>\n",
       "    <tr>\n",
       "      <th>0</th>\n",
       "      <td>Nintendo 64</td>\n",
       "      <td>7.954930</td>\n",
       "    </tr>\n",
       "    <tr>\n",
       "      <th>1</th>\n",
       "      <td>PlayStation</td>\n",
       "      <td>6.855080</td>\n",
       "    </tr>\n",
       "    <tr>\n",
       "      <th>2</th>\n",
       "      <td>PlayStation 3</td>\n",
       "      <td>6.660032</td>\n",
       "    </tr>\n",
       "    <tr>\n",
       "      <th>3</th>\n",
       "      <td>Dreamcast</td>\n",
       "      <td>7.492800</td>\n",
       "    </tr>\n",
       "    <tr>\n",
       "      <th>4</th>\n",
       "      <td>Xbox 360</td>\n",
       "      <td>6.507603</td>\n",
       "    </tr>\n",
       "    <tr>\n",
       "      <th>5</th>\n",
       "      <td>Wii</td>\n",
       "      <td>6.463664</td>\n",
       "    </tr>\n",
       "    <tr>\n",
       "      <th>6</th>\n",
       "      <td>Xbox One</td>\n",
       "      <td>5.979050</td>\n",
       "    </tr>\n",
       "    <tr>\n",
       "      <th>7</th>\n",
       "      <td>PC</td>\n",
       "      <td>6.628043</td>\n",
       "    </tr>\n",
       "    <tr>\n",
       "      <th>8</th>\n",
       "      <td>Switch</td>\n",
       "      <td>6.233024</td>\n",
       "    </tr>\n",
       "    <tr>\n",
       "      <th>9</th>\n",
       "      <td>PlayStation 2</td>\n",
       "      <td>6.983805</td>\n",
       "    </tr>\n",
       "    <tr>\n",
       "      <th>10</th>\n",
       "      <td>PlayStation 4</td>\n",
       "      <td>6.157539</td>\n",
       "    </tr>\n",
       "    <tr>\n",
       "      <th>11</th>\n",
       "      <td>GameCube</td>\n",
       "      <td>6.850223</td>\n",
       "    </tr>\n",
       "    <tr>\n",
       "      <th>12</th>\n",
       "      <td>Xbox</td>\n",
       "      <td>6.222687</td>\n",
       "    </tr>\n",
       "    <tr>\n",
       "      <th>13</th>\n",
       "      <td>Wii U</td>\n",
       "      <td>7.192935</td>\n",
       "    </tr>\n",
       "    <tr>\n",
       "      <th>14</th>\n",
       "      <td>Game Boy Advance</td>\n",
       "      <td>5.949772</td>\n",
       "    </tr>\n",
       "    <tr>\n",
       "      <th>15</th>\n",
       "      <td>3DS</td>\n",
       "      <td>6.781061</td>\n",
       "    </tr>\n",
       "    <tr>\n",
       "      <th>16</th>\n",
       "      <td>Xbox Series X</td>\n",
       "      <td>5.620779</td>\n",
       "    </tr>\n",
       "    <tr>\n",
       "      <th>17</th>\n",
       "      <td>DS</td>\n",
       "      <td>5.929167</td>\n",
       "    </tr>\n",
       "    <tr>\n",
       "      <th>18</th>\n",
       "      <td>PlayStation Vita</td>\n",
       "      <td>7.098054</td>\n",
       "    </tr>\n",
       "    <tr>\n",
       "      <th>19</th>\n",
       "      <td>PlayStation 5</td>\n",
       "      <td>5.912903</td>\n",
       "    </tr>\n",
       "    <tr>\n",
       "      <th>20</th>\n",
       "      <td>PSP</td>\n",
       "      <td>6.586523</td>\n",
       "    </tr>\n",
       "    <tr>\n",
       "      <th>21</th>\n",
       "      <td>Stadia</td>\n",
       "      <td>7.380000</td>\n",
       "    </tr>\n",
       "  </tbody>\n",
       "</table>\n",
       "</div>"
      ],
      "text/plain": [
       "             platform  user_review\n",
       "0         Nintendo 64     7.954930\n",
       "1         PlayStation     6.855080\n",
       "2       PlayStation 3     6.660032\n",
       "3           Dreamcast     7.492800\n",
       "4            Xbox 360     6.507603\n",
       "5                 Wii     6.463664\n",
       "6            Xbox One     5.979050\n",
       "7                  PC     6.628043\n",
       "8              Switch     6.233024\n",
       "9       PlayStation 2     6.983805\n",
       "10      PlayStation 4     6.157539\n",
       "11           GameCube     6.850223\n",
       "12               Xbox     6.222687\n",
       "13              Wii U     7.192935\n",
       "14   Game Boy Advance     5.949772\n",
       "15                3DS     6.781061\n",
       "16      Xbox Series X     5.620779\n",
       "17                 DS     5.929167\n",
       "18   PlayStation Vita     7.098054\n",
       "19      PlayStation 5     5.912903\n",
       "20                PSP     6.586523\n",
       "21             Stadia     7.380000"
      ]
     },
     "execution_count": 10,
     "metadata": {},
     "output_type": "execute_result"
    }
   ],
   "source": [
    "platforms_user_mean = pd.DataFrame([],columns=['platform','user_review'])\n",
    "for i in range (len(platforms_list)):\n",
    "    df_temp = df_games[df_games.platform==platforms_list[i]]\n",
    "    sum = np.mean(df_temp.user_review.values)\n",
    "    platforms_user_mean.loc[i] = [platforms_list[i],sum]\n",
    "platforms_user_mean"
   ]
  },
  {
   "cell_type": "code",
   "execution_count": null,
   "id": "03a78da9",
   "metadata": {},
   "outputs": [],
   "source": []
  },
  {
   "cell_type": "raw",
   "id": "1059d2de",
   "metadata": {},
   "source": []
  }
 ],
 "metadata": {
  "kernelspec": {
   "display_name": "Python 3 (ipykernel)",
   "language": "python",
   "name": "python3"
  },
  "language_info": {
   "codemirror_mode": {
    "name": "ipython",
    "version": 3
   },
   "file_extension": ".py",
   "mimetype": "text/x-python",
   "name": "python",
   "nbconvert_exporter": "python",
   "pygments_lexer": "ipython3",
   "version": "3.7.11"
  }
 },
 "nbformat": 4,
 "nbformat_minor": 5
}
